{
 "cells": [
  {
   "cell_type": "markdown",
   "id": "4aeec692",
   "metadata": {},
   "source": [
    "## Séances 6 : Bibliothèques SymPy et Scipy"
   ]
  },
  {
   "cell_type": "markdown",
   "id": "2dbed184",
   "metadata": {},
   "source": [
    "<span style= font-size:16px> Maintenant que nous avons vu les bibliothèques classiques **Numpy** et **Matplotlib** nous allons en voir deux nouvelles plus spécifiques aux calculs. Verifiez que ces deux bibliothèques sont bien installés dans vos applications Anaconda et importez les dans ce terminale comme nous en avons l'habitude. "
   ]
  },
  {
   "cell_type": "code",
   "execution_count": 48,
   "id": "072c43b1",
   "metadata": {},
   "outputs": [],
   "source": [
    "#importer les modules sympy et scipy \n",
    "import sympy as sp\n",
    "import scipy as sc\n",
    "import math as m\n",
    "import numpy as np"
   ]
  },
  {
   "cell_type": "markdown",
   "id": "eb4cd8b0",
   "metadata": {},
   "source": [
    "<span style= font-size:16px>Le premier module que nous allons utiliser est le module **`sympy`**. Cette bibliotheque permet de faire du calcul Symbolique et surtout trés precis mathematiquement. Cette bibliotheque permet egalement de faire du calcul matriciel, de calculer des dérivés et integrale et plein d'autres merveilles que nous aurons l'occasion de voir par la suite. "
   ]
  },
  {
   "cell_type": "markdown",
   "id": "e7bb84a7",
   "metadata": {},
   "source": [
    "<span style= font-size:16px>Commencons par le début faites les calculs suivant à la fois avec sympy et le module math. \n",
    "    $$\\large1.\\;\\sqrt{4}$$ \n",
    "    $$\\large2.\\;\\sqrt{2}$$ \n",
    "    $$\\large3.\\;\\sqrt{8}$$\n",
    "    $$\\large$$\n",
    "    $$\\large4.\\;\\;e^4*e^3$$"
   ]
  },
  {
   "cell_type": "code",
   "execution_count": 49,
   "id": "b4003b2d",
   "metadata": {},
   "outputs": [
    {
     "name": "stdout",
     "output_type": "stream",
     "text": [
      "Par module math :  2.0\n",
      "Par module sympy :  2\n"
     ]
    }
   ],
   "source": [
    "#1\n",
    "print(\"Par module math : \",m.sqrt(4))\n",
    "print(\"Par module sympy : \", sp.sqrt(4))"
   ]
  },
  {
   "cell_type": "code",
   "execution_count": 50,
   "id": "d5f4b1b2",
   "metadata": {},
   "outputs": [
    {
     "name": "stdout",
     "output_type": "stream",
     "text": [
      "Par module math :  1.4142135623730951\n",
      "Par module sympy :  sqrt(2)\n"
     ]
    }
   ],
   "source": [
    "#2\n",
    "print(\"Par module math : \",m.sqrt(2))\n",
    "print(\"Par module sympy : \", sp.sqrt(2))"
   ]
  },
  {
   "cell_type": "code",
   "execution_count": 51,
   "id": "13f2e41b",
   "metadata": {},
   "outputs": [
    {
     "name": "stdout",
     "output_type": "stream",
     "text": [
      "math :  2.0000000000000004\n",
      "sympy :  2\n"
     ]
    }
   ],
   "source": [
    "m.sqrt(2)==sp.sqrt(2)\n",
    "print(\"math : \",(m.sqrt(2))**2)\n",
    "print(\"sympy : \",(sp.sqrt(2))**2)"
   ]
  },
  {
   "cell_type": "code",
   "execution_count": 52,
   "id": "0236a817",
   "metadata": {},
   "outputs": [
    {
     "name": "stdout",
     "output_type": "stream",
     "text": [
      "Par module math :  2.8284271247461903\n",
      "Par module sympy :  2*sqrt(2)\n",
      "2⋅√2\n"
     ]
    }
   ],
   "source": [
    "#3\n",
    "print(\"Par module math : \",m.sqrt(8))\n",
    "print(\"Par module sympy : \", sp.sqrt(8))\n",
    "sp.pprint(sp.sqrt(8))"
   ]
  },
  {
   "cell_type": "code",
   "execution_count": 61,
   "id": "554b4c39",
   "metadata": {},
   "outputs": [
    {
     "name": "stdout",
     "output_type": "stream",
     "text": [
      "Par module math :  1096.6331584284585\n",
      "Par module numpy :  1096.6331584284585\n",
      "Par module sympy :  exp(7)\n"
     ]
    }
   ],
   "source": [
    "#4\n",
    "print(\"Par module math : \",m.exp(4)*m.exp(3))\n",
    "print(\"Par module numpy : \",np.exp(4)*np.exp(3))\n",
    "print(\"Par module sympy : \",sp.exp(4)*sp.exp(3))"
   ]
  },
  {
   "attachments": {},
   "cell_type": "markdown",
   "id": "a26b0f57",
   "metadata": {},
   "source": [
    "<span style= font-size:16px> Maintenant que nous avons compris ce que signifie cette notion de calcul Symbolique, regardons le vrai interet de **`Sympy`**."
   ]
  },
  {
   "cell_type": "markdown",
   "id": "40b25b66",
   "metadata": {},
   "source": [
    "<span style= font-size:16px>trouver les integrales des fonctions suivantes:\n",
    "        $$\\large-\\frac{d[A]}{dt}=k$$\n",
    "    $$\\large-\\frac{d[A]}{dt}=k[A]$$"
   ]
  },
  {
   "cell_type": "code",
   "execution_count": 72,
   "id": "440d0dda",
   "metadata": {},
   "outputs": [
    {
     "data": {
      "text/latex": [
       "$\\displaystyle - 1.0 A^{2} - 1.0 A$"
      ],
      "text/plain": [
       "-1.0*A**2 - 1.0*A"
      ]
     },
     "execution_count": 72,
     "metadata": {},
     "output_type": "execute_result"
    }
   ],
   "source": [
    "A=sp.Symbol(\"A\")\n",
    "t=sp.Symbol(\"t\")\n",
    "k=sp.Symbol(\"k\")\n",
    "sp.integrate(-A/0.5-1)"
   ]
  },
  {
   "cell_type": "code",
   "execution_count": null,
   "id": "34625666",
   "metadata": {},
   "outputs": [],
   "source": []
  }
 ],
 "metadata": {
  "kernelspec": {
   "display_name": "Python 3 (ipykernel)",
   "language": "python",
   "name": "python3"
  },
  "language_info": {
   "codemirror_mode": {
    "name": "ipython",
    "version": 3
   },
   "file_extension": ".py",
   "mimetype": "text/x-python",
   "name": "python",
   "nbconvert_exporter": "python",
   "pygments_lexer": "ipython3",
   "version": "3.8.8"
  }
 },
 "nbformat": 4,
 "nbformat_minor": 5
}
