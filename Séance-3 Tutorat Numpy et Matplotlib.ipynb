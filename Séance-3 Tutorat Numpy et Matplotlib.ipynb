{
 "cells": [
  {
   "cell_type": "markdown",
   "id": "6ce8408e",
   "metadata": {},
   "source": [
    "## Séances 3 :  Bibliotheque Numpy et Matplotlib "
   ]
  },
  {
   "cell_type": "markdown",
   "id": "101215df",
   "metadata": {},
   "source": [
    "<span style= font-size:16px> Pour pouvoir pleinement exploiter les fonctionnalités de la programmation en Python, il faut passer par des bibliothèques et les fonctionnalités qu'elles offrent. \n",
    "On demarre par importer les bibliotheques qui sont normalement déja présentes dans Anaconda.\n",
    "    \n",
    "**Numpy** : qui est une librairie permettant de faire des calculs sur les tableaux à une ou plusieurs dimensions.\n",
    "    \n",
    "**Matplotlib** : qui est une librairie permettant de faire des graphiques.\n",
    "\n",
    "Pour importer on utilise la commande <span style=\"color: #26B260\" >  **import** </span>"
   ]
  },
  {
   "cell_type": "code",
   "execution_count": 2,
   "id": "a39f504f",
   "metadata": {},
   "outputs": [],
   "source": [
    "import numpy as np\n",
    "import matplotlib.pyplot as plt\n",
    "import math as m"
   ]
  },
  {
   "cell_type": "markdown",
   "id": "bbd66b57",
   "metadata": {},
   "source": [
    "<span style= font-size:16px> Maintenant les deux bibliothèques sont importées et ont un nom plus simple à l'usage. \n",
    "    \n",
    "<span style= font-size:16px> Pour faire appel à ces bibliothèques on utilise les noms attribués:\n",
    "* np\n",
    "* plt\n"
   ]
  },
  {
   "cell_type": "markdown",
   "id": "74342607",
   "metadata": {},
   "source": [
    "<span style= font-size:16px> On utilise la bibliothèque **Numpy** pour former des tableaux avec nos données et surout pouvoir interagir et faire des calculs sur ces tableaux. \n",
    "Numpy permet de former des `array` qui est un type de donnée differents des `List` et `Tuple`.\n",
    "    \n",
    " \n",
    "<span style= font-size:16px> Nous aurons l'occasion de revenir sur ces notions. "
   ]
  },
  {
   "cell_type": "markdown",
   "id": "44cbb575",
   "metadata": {},
   "source": [
    "### Calcul numérique avec Numpy "
   ]
  },
  {
   "cell_type": "markdown",
   "id": "1af98065",
   "metadata": {},
   "source": [
    "**Création des premiers array :**"
   ]
  },
  {
   "cell_type": "code",
   "execution_count": null,
   "id": "36042780",
   "metadata": {},
   "outputs": [],
   "source": []
  },
  {
   "cell_type": "code",
   "execution_count": null,
   "id": "11203068",
   "metadata": {},
   "outputs": [],
   "source": []
  },
  {
   "cell_type": "code",
   "execution_count": null,
   "id": "d10730a2",
   "metadata": {},
   "outputs": [],
   "source": []
  },
  {
   "cell_type": "markdown",
   "id": "e5543476",
   "metadata": {},
   "source": [
    "### Les graphiques avec Matplotlib"
   ]
  },
  {
   "cell_type": "markdown",
   "id": "5d08e348",
   "metadata": {},
   "source": [
    "<span style= font-size:16px> La bibliothèque matplotlib fait partie des nombreuses bibliothèques permettant de faire de la représentation graphique et est à l'heure actuelle la plus utilisée. Elle se base pour faire concurrence au language de logiciel de programmation Matlab en fonctionnant de façon analogue. "
   ]
  },
  {
   "cell_type": "markdown",
   "id": "d8bbb7e2",
   "metadata": {},
   "source": [
    "**Premiers graphiques :**"
   ]
  },
  {
   "cell_type": "code",
   "execution_count": null,
   "id": "868080d1",
   "metadata": {},
   "outputs": [],
   "source": []
  },
  {
   "cell_type": "code",
   "execution_count": null,
   "id": "470564ca",
   "metadata": {},
   "outputs": [],
   "source": []
  },
  {
   "cell_type": "code",
   "execution_count": null,
   "id": "39610ccf",
   "metadata": {},
   "outputs": [],
   "source": []
  }
 ],
 "metadata": {
  "kernelspec": {
   "display_name": "Python 3 (ipykernel)",
   "language": "python",
   "name": "python3"
  },
  "language_info": {
   "codemirror_mode": {
    "name": "ipython",
    "version": 3
   },
   "file_extension": ".py",
   "mimetype": "text/x-python",
   "name": "python",
   "nbconvert_exporter": "python",
   "pygments_lexer": "ipython3",
   "version": "3.9.7"
  }
 },
 "nbformat": 4,
 "nbformat_minor": 5
}
