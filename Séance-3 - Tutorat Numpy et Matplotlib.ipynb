{
 "cells": [
  {
   "cell_type": "markdown",
   "id": "6ce8408e",
   "metadata": {},
   "source": [
    "## Séances 3 :  Bibliotheque Numpy et Matplotlib "
   ]
  },
  {
   "cell_type": "markdown",
   "id": "101215df",
   "metadata": {},
   "source": [
    "<span style= font-size:16px> Pour pouvoir pleinement exploiter les fonctionnalités de la programmation en Python, il faut passer par des bibliothèques et les fonctionnalités qu'elles offrent. \n",
    "On demarre par importer les bibliotheques qui sont normalement déja présentes dans Anaconda.\n",
    "    \n",
    "**Numpy** : qui est une librairie permettant de faire des calculs sur les tableaux à une ou plusieurs dimensions.\n",
    "    \n",
    "**Matplotlib** : qui est une librairie permettant de faire des graphiques.\n",
    "\n",
    "Pour importer on utilise la commande <span style=\"color: #26B260\" >  **import** </span>"
   ]
  },
  {
   "cell_type": "code",
   "execution_count": 46,
   "id": "a39f504f",
   "metadata": {},
   "outputs": [],
   "source": [
    "import numpy as np\n",
    "import matplotlib.pyplot as plt"
   ]
  },
  {
   "cell_type": "markdown",
   "id": "bbd66b57",
   "metadata": {},
   "source": [
    "<span style= font-size:16px> Maintenant les deux bibliothèques sont importées et ont un nom plus simple à l'usage. \n",
    "    \n",
    "<span style= font-size:16px> Pour faire appel à ces bibliothèques on utilise les noms attribués:\n",
    "* np\n",
    "* plt\n"
   ]
  },
  {
   "cell_type": "markdown",
   "id": "74342607",
   "metadata": {},
   "source": [
    "<span style= font-size:16px> On utilise la bibliothèque **Numpy** pour former des tableaux avec nos données et surout pouvoir interagir et faire des calculs sur ces tableaux. \n",
    "Numpy permet de former des `array` qui est un type de donnée differents des `List` et `Tuple`.\n",
    "    \n",
    " \n",
    "<span style= font-size:16px> Nous aurons l'occasion de revenir sur ces notions. "
   ]
  },
  {
   "cell_type": "markdown",
   "id": "44cbb575",
   "metadata": {},
   "source": [
    "### Calcul numérique avec Numpy "
   ]
  },
  {
   "cell_type": "markdown",
   "id": "1af98065",
   "metadata": {},
   "source": [
    "**Création des premiers array :**"
   ]
  },
  {
   "cell_type": "code",
   "execution_count": null,
   "id": "81a0010d",
   "metadata": {},
   "outputs": [],
   "source": []
  },
  {
   "cell_type": "code",
   "execution_count": null,
   "id": "5f442ee4",
   "metadata": {},
   "outputs": [],
   "source": []
  },
  {
   "cell_type": "code",
   "execution_count": null,
   "id": "36e05d0f",
   "metadata": {},
   "outputs": [],
   "source": []
  },
  {
   "cell_type": "markdown",
   "id": "e5543476",
   "metadata": {},
   "source": [
    "### Les graphiques avec Matplotlib"
   ]
  },
  {
   "cell_type": "markdown",
   "id": "5d08e348",
   "metadata": {},
   "source": [
    "<span style= font-size:16px> La bibliothèque matplotlib fait partie des nombreuses bibliothèques permettant de faire de la représentation graphique et est à l'heure actuelle la plus utilisée. Elle se base pour faire concurrence au language de logiciel de programmation Matlab en fonctionnant de façon analogue. "
   ]
  },
  {
   "cell_type": "markdown",
   "id": "d8bbb7e2",
   "metadata": {},
   "source": [
    "**Premiers graphiques :**"
   ]
  },
  {
   "cell_type": "code",
   "execution_count": 74,
   "id": "c85d5e10",
   "metadata": {},
   "outputs": [
    {
     "data": {
      "text/plain": [
       "[<matplotlib.lines.Line2D at 0x7fc6e8808eb0>]"
      ]
     },
     "execution_count": 74,
     "metadata": {},
     "output_type": "execute_result"
    },
    {
     "data": {
      "image/png": "[encoded data removed]",
      "text/plain": [
       "<Figure size 432x288 with 1 Axes>"
      ]
     },
     "metadata": {
      "needs_background": "light"
     },
     "output_type": "display_data"
    }
   ],
   "source": [
    "x=[1,2,3,4,5,6]\n",
    "y=[1,3,8,2,7,1]\n",
    "label=[\"nul\",\"un peu\",\"moyen\",\"plus\",\"encore\",\"enorme\"]\n",
    "plt.xticks(x,label,rotation='')\n",
    "plt.plot(x,y)"
   ]
  }
 ],
 "metadata": {
  "kernelspec": {
   "display_name": "Python 3",
   "language": "python",
   "name": "python3"
  },
  "language_info": {
   "codemirror_mode": {
    "name": "ipython",
    "version": 3
   },
   "file_extension": ".py",
   "mimetype": "text/x-python",
   "name": "python",
   "nbconvert_exporter": "python",
   "pygments_lexer": "ipython3",
   "version": "3.8.8"
  }
 },
 "nbformat": 4,
 "nbformat_minor": 5
}
