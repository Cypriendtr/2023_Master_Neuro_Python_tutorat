{
 "cells": [
  {
   "cell_type": "markdown",
   "id": "64b94b9c",
   "metadata": {},
   "source": [
    "# BONJOUR"
   ]
  },
  {
   "cell_type": "markdown",
   "id": "72c0c52e",
   "metadata": {},
   "source": [
    "idlkadj"
   ]
  },
  {
   "cell_type": "markdown",
   "id": "1f7ab83a",
   "metadata": {},
   "source": [
    "j'ai 5 ans $\\frac{1}{2}$ et je suis content"
   ]
  },
  {
   "cell_type": "markdown",
   "id": "c9eb25b9",
   "metadata": {},
   "source": [
    "j'ai 5 ans $\\frac{1}{2}$ et je suis content"
   ]
  },
  {
   "cell_type": "markdown",
   "id": "008423e8",
   "metadata": {},
   "source": [
    "$ \\lambda $\n",
    "\n",
    "$$ \\lambda $$"
   ]
  },
  {
   "cell_type": "markdown",
   "id": "01dcd66e",
   "metadata": {},
   "source": [
    "$ \\lambda $\n",
    "\n",
    "$$ \\lambda $$"
   ]
  },
  {
   "cell_type": "markdown",
   "id": "19d1801e",
   "metadata": {},
   "source": [
    "# $\\Rightarrow \\underset{x \\rightarrow \\infty}{\\lim} $ ce ci est un titre"
   ]
  },
  {
   "cell_type": "markdown",
   "id": "a8437a43",
   "metadata": {},
   "source": [
    " # $\\Rightarrow \\underset{x \\rightarrow \\infty}{\\lim} $ ce ci est un titre"
   ]
  },
  {
   "cell_type": "markdown",
   "id": "24f93a54",
   "metadata": {},
   "source": [
    "$$ \\large \\infty$$\n",
    "$$ \\infty$$"
   ]
  },
  {
   "cell_type": "markdown",
   "id": "f4954e4f",
   "metadata": {},
   "source": [
    "$$\\large \\infty$$\n",
    "$$ \\infty$$"
   ]
  },
  {
   "cell_type": "markdown",
   "id": "db35f90a",
   "metadata": {},
   "source": [
    "pour les numéros $\\rightarrow$ \"Shift-L\""
   ]
  },
  {
   "cell_type": "code",
   "execution_count": 2,
   "id": "ea09352f",
   "metadata": {},
   "outputs": [
    {
     "name": "stdout",
     "output_type": "stream",
     "text": [
      "Hello World\n"
     ]
    }
   ],
   "source": [
    "print(\"Hello World\")"
   ]
  },
  {
   "cell_type": "code",
   "execution_count": 4,
   "id": "95471b05",
   "metadata": {},
   "outputs": [
    {
     "name": "stdout",
     "output_type": "stream",
     "text": [
      "J'ai 5 ans\n",
      "J'ai 5 ans\n"
     ]
    }
   ],
   "source": [
    "print(\"J'ai\",5,\"ans\")\n",
    "print(\"J'ai 5 ans\")"
   ]
  },
  {
   "cell_type": "markdown",
   "id": "fc97fcd1",
   "metadata": {},
   "source": [
    "# str() / float() / int()"
   ]
  },
  {
   "cell_type": "code",
   "execution_count": 5,
   "id": "d52389d5",
   "metadata": {},
   "outputs": [
    {
     "data": {
      "text/plain": [
       "'6.666'"
      ]
     },
     "execution_count": 5,
     "metadata": {},
     "output_type": "execute_result"
    }
   ],
   "source": [
    "str(6.666)"
   ]
  },
  {
   "cell_type": "code",
   "execution_count": 6,
   "id": "3d2d4592",
   "metadata": {},
   "outputs": [
    {
     "data": {
      "text/plain": [
       "6"
      ]
     },
     "execution_count": 6,
     "metadata": {},
     "output_type": "execute_result"
    }
   ],
   "source": [
    "int(6.666)"
   ]
  },
  {
   "cell_type": "code",
   "execution_count": 7,
   "id": "5dec2725",
   "metadata": {},
   "outputs": [
    {
     "data": {
      "text/plain": [
       "1.0"
      ]
     },
     "execution_count": 7,
     "metadata": {},
     "output_type": "execute_result"
    }
   ],
   "source": [
    "float(1)"
   ]
  },
  {
   "cell_type": "code",
   "execution_count": 8,
   "id": "95d2da80",
   "metadata": {},
   "outputs": [],
   "source": [
    "two=2"
   ]
  },
  {
   "cell_type": "code",
   "execution_count": 10,
   "id": "cbd54ef1",
   "metadata": {},
   "outputs": [
    {
     "data": {
      "text/plain": [
       "2.0"
      ]
     },
     "execution_count": 10,
     "metadata": {},
     "output_type": "execute_result"
    }
   ],
   "source": [
    "float(two)"
   ]
  }
 ],
 "metadata": {
  "kernelspec": {
   "display_name": "Python 3",
   "language": "python",
   "name": "python3"
  },
  "language_info": {
   "codemirror_mode": {
    "name": "ipython",
    "version": 3
   },
   "file_extension": ".py",
   "mimetype": "text/x-python",
   "name": "python",
   "nbconvert_exporter": "python",
   "pygments_lexer": "ipython3",
   "version": "3.8.8"
  }
 },
 "nbformat": 4,
 "nbformat_minor": 5
}
