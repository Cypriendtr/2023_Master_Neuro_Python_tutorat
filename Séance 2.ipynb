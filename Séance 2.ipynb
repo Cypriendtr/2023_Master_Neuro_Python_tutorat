{
 "cells": [
  {
   "cell_type": "markdown",
   "id": "c3b12fe5",
   "metadata": {},
   "source": [
    "## Séance 2"
   ]
  },
  {
   "cell_type": "markdown",
   "id": "7530e213",
   "metadata": {},
   "source": [
    "**gras**\n",
    "`fonctions`\n",
    "*italique*"
   ]
  },
  {
   "cell_type": "code",
   "execution_count": 28,
   "id": "1d705603",
   "metadata": {},
   "outputs": [
    {
     "name": "stdout",
     "output_type": "stream",
     "text": [
      "hello world\n"
     ]
    }
   ],
   "source": [
    "a=\"hello\"\n",
    "b=\" world\"\n",
    "print(a+b)"
   ]
  },
  {
   "cell_type": "code",
   "execution_count": 29,
   "id": "a59ef789",
   "metadata": {},
   "outputs": [
    {
     "name": "stdout",
     "output_type": "stream",
     "text": [
      "hello world world world\n"
     ]
    }
   ],
   "source": [
    "print(a + b*3)"
   ]
  },
  {
   "cell_type": "code",
   "execution_count": 30,
   "id": "5ee8caef",
   "metadata": {},
   "outputs": [],
   "source": [
    "# + addition \n",
    "# - soustraction\n",
    "# * mutliplier\n",
    "# ** puissance\n",
    "# / diviser"
   ]
  },
  {
   "cell_type": "code",
   "execution_count": 31,
   "id": "2af138e7",
   "metadata": {},
   "outputs": [
    {
     "data": {
      "text/plain": [
       "2.5"
      ]
     },
     "execution_count": 31,
     "metadata": {},
     "output_type": "execute_result"
    }
   ],
   "source": [
    "5/2"
   ]
  },
  {
   "cell_type": "code",
   "execution_count": 32,
   "id": "0f4fd388",
   "metadata": {},
   "outputs": [
    {
     "data": {
      "text/plain": [
       "2"
      ]
     },
     "execution_count": 32,
     "metadata": {},
     "output_type": "execute_result"
    }
   ],
   "source": [
    "5//2"
   ]
  },
  {
   "cell_type": "code",
   "execution_count": 33,
   "id": "21b4000d",
   "metadata": {},
   "outputs": [
    {
     "data": {
      "text/plain": [
       "1"
      ]
     },
     "execution_count": 33,
     "metadata": {},
     "output_type": "execute_result"
    }
   ],
   "source": [
    "5%2"
   ]
  },
  {
   "cell_type": "code",
   "execution_count": 1,
   "id": "6aeec039",
   "metadata": {},
   "outputs": [
    {
     "name": "stdout",
     "output_type": "stream",
     "text": [
      "Le resultat de la division de 8 par 2 est: le quotient est: 4 et le reste est: 0\n"
     ]
    }
   ],
   "source": [
    "c=8\n",
    "d=2\n",
    "print(\"Le resultat de la division de\",c,\"par\",d,\"est:\",\"le quotient est:\",c//d,\"et le reste est:\",c%d)"
   ]
  },
  {
   "cell_type": "code",
   "execution_count": 35,
   "id": "47e2f686",
   "metadata": {},
   "outputs": [
    {
     "name": "stdout",
     "output_type": "stream",
     "text": [
      "Donne moi un nombre8\n",
      "Le nombre est 8\n"
     ]
    }
   ],
   "source": [
    "INPUT=input(\"Donne moi un nombre\")\n",
    "print(\"Le nombre est\",INPUT)"
   ]
  },
  {
   "cell_type": "code",
   "execution_count": 18,
   "id": "d4057146",
   "metadata": {},
   "outputs": [
    {
     "name": "stdout",
     "output_type": "stream",
     "text": [
      "Donne moi un Numerateur10\n",
      "Donne moi un Dénominateur2\n",
      "Le resultat de la division de 10 par 2 est: le quotient est: 5 et le reste est: 0\n"
     ]
    }
   ],
   "source": [
    "C=input(\"Donne moi un Numerateur\")\n",
    "D=input(\"Donne moi un Dénominateur\")\n",
    "try:print(\"Le resultat de la division de\",C,\"par\",D,\"est:\",\"le quotient est:\",int(C)//int(D),\n",
    "      \"et le reste est:\",int(C)%int(D))\n",
    "except :'ZeroDivisionError',print(\"Pas de Division par Zero possible\")\n"
   ]
  },
  {
   "cell_type": "code",
   "execution_count": 38,
   "id": "04e5939f",
   "metadata": {},
   "outputs": [
    {
     "data": {
      "text/plain": [
       "5"
      ]
     },
     "execution_count": 38,
     "metadata": {},
     "output_type": "execute_result"
    }
   ],
   "source": [
    "len(\"hello\")"
   ]
  },
  {
   "cell_type": "markdown",
   "id": "0cfbd320",
   "metadata": {},
   "source": [
    "## Variables List, Tuples et Dictionnaire"
   ]
  },
  {
   "cell_type": "code",
   "execution_count": 72,
   "id": "7c652e8d",
   "metadata": {},
   "outputs": [],
   "source": [
    "liste1=[1,2,3,4]\n",
    "liste2=[1,2,\"bonjour\",4.5]"
   ]
  },
  {
   "cell_type": "code",
   "execution_count": 43,
   "id": "504f7e10",
   "metadata": {},
   "outputs": [
    {
     "name": "stdout",
     "output_type": "stream",
     "text": [
      "[1, 2, 3, 4] [1, 2, 'bonjour', 4.5]\n"
     ]
    }
   ],
   "source": [
    "print(liste1,liste2)"
   ]
  },
  {
   "cell_type": "code",
   "execution_count": 45,
   "id": "5b027668",
   "metadata": {},
   "outputs": [
    {
     "name": "stdout",
     "output_type": "stream",
     "text": [
      "[1, 2, 3, 4, 1, 2, 'bonjour', 4.5]\n"
     ]
    }
   ],
   "source": [
    "liste3=liste1+liste2\n",
    "print(liste3)"
   ]
  },
  {
   "cell_type": "code",
   "execution_count": 46,
   "id": "87e2e2da",
   "metadata": {},
   "outputs": [
    {
     "data": {
      "text/plain": [
       "1"
      ]
     },
     "execution_count": 46,
     "metadata": {},
     "output_type": "execute_result"
    }
   ],
   "source": [
    "liste1[0]"
   ]
  },
  {
   "cell_type": "code",
   "execution_count": 47,
   "id": "da6fd916",
   "metadata": {},
   "outputs": [
    {
     "data": {
      "text/plain": [
       "4"
      ]
     },
     "execution_count": 47,
     "metadata": {},
     "output_type": "execute_result"
    }
   ],
   "source": [
    "liste1[-1]"
   ]
  },
  {
   "cell_type": "code",
   "execution_count": 49,
   "id": "f4949683",
   "metadata": {},
   "outputs": [
    {
     "data": {
      "text/plain": [
       "1"
      ]
     },
     "execution_count": 49,
     "metadata": {},
     "output_type": "execute_result"
    }
   ],
   "source": [
    "liste1[-4]"
   ]
  },
  {
   "cell_type": "code",
   "execution_count": 50,
   "id": "d3f3aff0",
   "metadata": {},
   "outputs": [
    {
     "data": {
      "text/plain": [
       "str"
      ]
     },
     "execution_count": 50,
     "metadata": {},
     "output_type": "execute_result"
    }
   ],
   "source": [
    "type(liste2[2])"
   ]
  },
  {
   "cell_type": "code",
   "execution_count": 54,
   "id": "de9f0064",
   "metadata": {},
   "outputs": [
    {
     "data": {
      "text/plain": [
       "list"
      ]
     },
     "execution_count": 54,
     "metadata": {},
     "output_type": "execute_result"
    }
   ],
   "source": [
    "liste_vide=[]\n",
    "type(liste_vide)"
   ]
  },
  {
   "cell_type": "code",
   "execution_count": 55,
   "id": "7e1de16c",
   "metadata": {},
   "outputs": [
    {
     "name": "stdout",
     "output_type": "stream",
     "text": [
      "[1]\n"
     ]
    }
   ],
   "source": [
    "liste_vide.append(1)\n",
    "print(liste_vide)"
   ]
  },
  {
   "cell_type": "code",
   "execution_count": 76,
   "id": "dd2c6588",
   "metadata": {},
   "outputs": [
    {
     "name": "stdout",
     "output_type": "stream",
     "text": [
      "[1, 2, 'bonjour', 4]\n"
     ]
    }
   ],
   "source": [
    "liste1[2]=\"bonjour\"\n",
    "print(liste1)"
   ]
  },
  {
   "cell_type": "code",
   "execution_count": 77,
   "id": "c52536e0",
   "metadata": {},
   "outputs": [],
   "source": [
    "#liste1.pop()"
   ]
  },
  {
   "cell_type": "code",
   "execution_count": 81,
   "id": "ffaae0fb",
   "metadata": {},
   "outputs": [
    {
     "data": {
      "text/plain": [
       "[1, 2, 'bonjour', 4]"
      ]
     },
     "execution_count": 81,
     "metadata": {},
     "output_type": "execute_result"
    }
   ],
   "source": [
    "liste1"
   ]
  },
  {
   "cell_type": "code",
   "execution_count": 82,
   "id": "c22402c3",
   "metadata": {
    "scrolled": false
   },
   "outputs": [
    {
     "data": {
      "text/plain": [
       "[1, 2, 'bonjour', 4, 1, 2, 'bonjour', 4]"
      ]
     },
     "execution_count": 82,
     "metadata": {},
     "output_type": "execute_result"
    }
   ],
   "source": [
    "liste1*2"
   ]
  },
  {
   "cell_type": "code",
   "execution_count": 83,
   "id": "c8ceaf62",
   "metadata": {},
   "outputs": [],
   "source": [
    "nombre_vide=[]"
   ]
  },
  {
   "cell_type": "code",
   "execution_count": 86,
   "id": "0de8c619",
   "metadata": {},
   "outputs": [
    {
     "name": "stdout",
     "output_type": "stream",
     "text": [
      "donne moi un nouveau nombre 5\n",
      "Le nombre donnée est 5\n"
     ]
    }
   ],
   "source": [
    "Nombre=input(\"donne moi un nouveau nombre \")\n",
    "nombre_vide.append(Nombre)\n",
    "print(\"Le nombre donnée est\",str(nombre_vide[len(nombre_vide)-1]))"
   ]
  },
  {
   "cell_type": "code",
   "execution_count": 87,
   "id": "53c5a536",
   "metadata": {},
   "outputs": [
    {
     "data": {
      "text/plain": [
       "['3', '3', '5']"
      ]
     },
     "execution_count": 87,
     "metadata": {},
     "output_type": "execute_result"
    }
   ],
   "source": [
    "nombre_vide"
   ]
  },
  {
   "cell_type": "markdown",
   "id": "a9105388",
   "metadata": {},
   "source": [
    "## Les tuples"
   ]
  },
  {
   "cell_type": "code",
   "execution_count": 89,
   "id": "2dd5677f",
   "metadata": {},
   "outputs": [
    {
     "data": {
      "text/plain": [
       "(1, 2, 3)"
      ]
     },
     "execution_count": 89,
     "metadata": {},
     "output_type": "execute_result"
    }
   ],
   "source": [
    "Tuple1=(1,2,3)\n",
    "Tuple1"
   ]
  },
  {
   "cell_type": "code",
   "execution_count": 90,
   "id": "ad8f98d7",
   "metadata": {},
   "outputs": [
    {
     "data": {
      "text/plain": [
       "(1, 2, 3, 1, 2, 3)"
      ]
     },
     "execution_count": 90,
     "metadata": {},
     "output_type": "execute_result"
    }
   ],
   "source": [
    "Tuple1*2"
   ]
  },
  {
   "cell_type": "code",
   "execution_count": 91,
   "id": "e4b5cc4f",
   "metadata": {},
   "outputs": [
    {
     "data": {
      "text/plain": [
       "2"
      ]
     },
     "execution_count": 91,
     "metadata": {},
     "output_type": "execute_result"
    }
   ],
   "source": [
    "Tuple1[1]"
   ]
  },
  {
   "cell_type": "code",
   "execution_count": null,
   "id": "3ad6d48d",
   "metadata": {},
   "outputs": [],
   "source": [
    "par=(a=1,b=2,c=4)"
   ]
  },
  {
   "cell_type": "markdown",
   "id": "1a520aa6",
   "metadata": {},
   "source": [
    "## Dictionnaire"
   ]
  },
  {
   "cell_type": "code",
   "execution_count": 92,
   "id": "01f0ffbe",
   "metadata": {},
   "outputs": [],
   "source": [
    "dico={}"
   ]
  },
  {
   "cell_type": "code",
   "execution_count": 93,
   "id": "10677996",
   "metadata": {},
   "outputs": [
    {
     "name": "stdout",
     "output_type": "stream",
     "text": [
      "{'Chien': 'labrador', 'Chat': 'Siamois'}\n"
     ]
    }
   ],
   "source": [
    "dico[\"Chien\"]=\"labrador\"\n",
    "dico[\"Chat\"]=\"Siamois\"\n",
    "print(dico)"
   ]
  },
  {
   "cell_type": "code",
   "execution_count": 97,
   "id": "9cce2792",
   "metadata": {},
   "outputs": [
    {
     "name": "stdout",
     "output_type": "stream",
     "text": [
      "labrador\n"
     ]
    }
   ],
   "source": [
    "print(dico[\"Chien\"])"
   ]
  },
  {
   "cell_type": "code",
   "execution_count": 98,
   "id": "4fb293bd",
   "metadata": {},
   "outputs": [],
   "source": [
    "Parametre_stim={}"
   ]
  },
  {
   "cell_type": "code",
   "execution_count": 99,
   "id": "981e93f8",
   "metadata": {},
   "outputs": [],
   "source": [
    "Parametre_stim[\"a\"]=18\n",
    "Parametre_stim[\"b\"]=22"
   ]
  },
  {
   "cell_type": "code",
   "execution_count": 100,
   "id": "1cdc8b40",
   "metadata": {},
   "outputs": [
    {
     "name": "stdout",
     "output_type": "stream",
     "text": [
      "396\n"
     ]
    }
   ],
   "source": [
    "print(Parametre_stim[\"a\"]*Parametre_stim[\"b\"])"
   ]
  },
  {
   "cell_type": "code",
   "execution_count": 101,
   "id": "22662c9a",
   "metadata": {},
   "outputs": [],
   "source": [
    "Parametre_stim[\"a\"]=35"
   ]
  },
  {
   "cell_type": "code",
   "execution_count": 102,
   "id": "da2f8059",
   "metadata": {},
   "outputs": [
    {
     "data": {
      "text/plain": [
       "{'a': 35, 'b': 22}"
      ]
     },
     "execution_count": 102,
     "metadata": {},
     "output_type": "execute_result"
    }
   ],
   "source": [
    "Parametre_stim"
   ]
  },
  {
   "cell_type": "code",
   "execution_count": null,
   "id": "6e69b12c",
   "metadata": {},
   "outputs": [],
   "source": []
  }
 ],
 "metadata": {
  "kernelspec": {
   "display_name": "Python 3 (ipykernel)",
   "language": "python",
   "name": "python3"
  },
  "language_info": {
   "codemirror_mode": {
    "name": "ipython",
    "version": 3
   },
   "file_extension": ".py",
   "mimetype": "text/x-python",
   "name": "python",
   "nbconvert_exporter": "python",
   "pygments_lexer": "ipython3",
   "version": "3.9.7"
  }
 },
 "nbformat": 4,
 "nbformat_minor": 5
}
