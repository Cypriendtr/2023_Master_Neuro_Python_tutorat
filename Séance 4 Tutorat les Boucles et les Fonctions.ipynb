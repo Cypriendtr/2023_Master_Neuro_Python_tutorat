{
 "cells": [
  {
   "cell_type": "markdown",
   "id": "d2683386",
   "metadata": {},
   "source": [
    "## Séance 4 : les Boucles et les Fonctions"
   ]
  },
  {
   "cell_type": "markdown",
   "id": "d14632ac",
   "metadata": {},
   "source": [
    "<span style= font-size:16px> Pour rentrer dans le concret et pleinement commencer a exploiter les capacités du language python il faut passer par les fonctions et les boucles pour automatiser certaines commandes. Les boucles comme leur nom l'indique permet de repeter plusieurs actions et d'imposer des conditions. La fonction permet en analogie aux mathematiques de créer tout un déroulé de calcul avec des variables et récuperer un résultat. \n",
    "    \n",
    "<span style= font-size:16px> Ces deux aspects se completent, nous pouvons venir executer dans une fonction plusieurs boucles, et inversement faire executer dans une boucle une ou plusieurs fonctions. \n",
    "    \n",
    "<span style= font-size:16px> La notion peut paraitre abstraite, mais on va éclaircir ça ensemble. "
   ]
  },
  {
   "cell_type": "markdown",
   "id": "7b790f67",
   "metadata": {},
   "source": [
    "<span style= font-size:16px> Les boucles se définissent avec plusieurs termes `if`, `elif`, `else` et `while`. Ces termes permettent de définir les differentes conditions des boucles. \n",
    "\n",
    "<span style= font-size:16px> Le mot `if` renvoie à la condition **si**, le mot `elif` renvoie à l'idée de **sinon** et le terme `else` renvoie à **enfin**. Dans les boucles if on ne definie qu'une seule condition `if` et une seule condition `else`. \n",
    "Le `if` demarre la boucle le `else`la termine et entre les deux on peut choisir autant de condition `elif` que l'on veut. \n",
    "    \n",
    "<span style= font-size:16px> Le mot `while`correspond à **tant que …** et définie une condition à remplir, la boucle continuera tant que la condition initiale n'est pas remplie."
   ]
  },
  {
   "cell_type": "code",
   "execution_count": null,
   "id": "1575227e",
   "metadata": {},
   "outputs": [],
   "source": []
  },
  {
   "cell_type": "markdown",
   "id": "2f9cf192",
   "metadata": {},
   "source": [
    "<span style= font-size:16px> Il existe un dernier type de boucle, les plus utilisées il sagit des boucles `for … in range…`\n"
   ]
  },
  {
   "cell_type": "code",
   "execution_count": null,
   "id": "55ce93f2",
   "metadata": {},
   "outputs": [],
   "source": []
  },
  {
   "cell_type": "markdown",
   "id": "cd4dc2d6",
   "metadata": {},
   "source": [
    "<span style= font-size:16px> Maintenant pour les fonctions elles se créent avec la commande `def` suivie du nom de la fonction et des variables que la fonction doit prendre en compte en parenthèses. On ecrit donc <span style=\"color: #26B260\" >  **def** </span> <span style=\"color: #1338cf\" >  **nom_de_la_fonction (x)** </span>:\n",
    "    \n",
    "<span style= font-size:16px> Pour faire appel à cette fonction on utilisera le nom donné lors de sa définition\n",
    "    \n",
    "<span style= font-size:16px> il existe un autre moyen de définir une fonction asses simplement dans une ligne de code avec la commande `lambda`. Cela s'ecrit <span style=\"color: #26B260\" >  **lambda** </span> x : x**2. Si l'on souhiate par exemple faire une fonction elever au carré. "
   ]
  },
  {
   "cell_type": "code",
   "execution_count": null,
   "id": "d0ab03d0",
   "metadata": {},
   "outputs": [],
   "source": []
  },
  {
   "cell_type": "code",
   "execution_count": null,
   "id": "8a5abfaf",
   "metadata": {},
   "outputs": [],
   "source": [
    "d"
   ]
  }
 ],
 "metadata": {
  "kernelspec": {
   "display_name": "Python 3 (ipykernel)",
   "language": "python",
   "name": "python3"
  },
  "language_info": {
   "codemirror_mode": {
    "name": "ipython",
    "version": 3
   },
   "file_extension": ".py",
   "mimetype": "text/x-python",
   "name": "python",
   "nbconvert_exporter": "python",
   "pygments_lexer": "ipython3",
   "version": "3.9.7"
  }
 },
 "nbformat": 4,
 "nbformat_minor": 5
}
